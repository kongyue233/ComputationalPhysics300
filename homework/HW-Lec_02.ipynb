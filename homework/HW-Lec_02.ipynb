{
  "metadata": {
    "language_info": {
      "codemirror_mode": {
        "name": "python",
        "version": 3
      },
      "file_extension": ".py",
      "mimetype": "text/x-python",
      "name": "python",
      "nbconvert_exporter": "python",
      "pygments_lexer": "ipython3",
      "version": "3.8"
    },
    "kernelspec": {
      "name": "python",
      "display_name": "Python (Pyodide)",
      "language": "python"
    }
  },
  "nbformat_minor": 4,
  "nbformat": 4,
  "cells": [
    {
      "cell_type": "code",
      "source": "def factor(N):\n    if N == 0 or N == 1:\n        return 1\n    else: \n        total = 1\n        for i in range(2,N+1):\n            total *= i\n        return total \ndef multiplicity(N,q):\n    return factor(q+N-1)/factor(q)/factor(N-1)\nN=int(input('Input vaild partitions number N: '))\nq=int(input('Input vaild total energy q: '))\nprint('For partitions N=',N,' total energy q=',q,' Ω(N,q)=',multiplicity(N,q))",
      "metadata": {},
      "execution_count": null,
      "outputs": []
    }
  ]
}