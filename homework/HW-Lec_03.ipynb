{
 "cells": [
  {
   "cell_type": "code",
   "execution_count": null,
   "id": "b33d8b52",
   "metadata": {},
   "outputs": [],
   "source": [
    "import math\n",
    "from math import log, exp\n",
    "import matplotlib.pyplot as plt\n",
    "\n",
    "#set a function to calculate factorial\n",
    "def factor(N):\n",
    "    N = int(N)\n",
    "    total = 1\n",
    "    if N<0:\n",
    "        print('Error, N must be greater than 0')\n",
    "    elif N>1: \n",
    "        for i in range(2,N+1):\n",
    "            total *= i\n",
    "    return total\n",
    "\n",
    "#set a function to calculate possible Q\n",
    "def Qa(N):\n",
    "    Qa_series = [0]    \n",
    "    for i in range(0,N):\n",
    "        if len(Qa_series)<=1:\n",
    "            Qa_series.append(1)\n",
    "        else:\n",
    "            Qa_series.append(Qa_series[-1]+1)\n",
    "    return Qa_series\n",
    "\n",
    "#set a function to calculate Omega Q\n",
    "def Omega_Qa(N,m):\n",
    "    Qa_series = [1]  \n",
    "    for i in range(0,N):\n",
    "        if i==0:\n",
    "            Qa_series.append(1)\n",
    "        else:\n",
    "            a=int(100**(log(factor(i+m),100) - log(factor(i),100) - log(factor(m),100)))#transfer to log function\n",
    "            Qa_series.append(a)\n",
    "    return Qa_series\n",
    "\n",
    "#plot all q and N value\n",
    "plt.xticks([1,10,20,30,40,50,60,70,80,90,100])\n",
    "plt.plot(Qa(100),Omega_Qa(100,300),'.-r',label=('Na=300,q=100'))\n",
    "plt.plot(Qa(100),Omega_Qa(100,200),'.-b',label=('Nb=200,q=100'))\n",
    "plt.plot(Qa(100),Omega_Qa(100,3000),'.-y',label=('Na=3000,q=100'))\n",
    "plt.plot(Qa(100),Omega_Qa(100,2000),'.-g',label=('Nb=2000,q=100'))\n",
    "plt.legend()\n",
    "plt.title('Na='+str(300))\n",
    "plt.xlabel('Q')\n",
    "plt.ylabel('$\\Omega(n)$')\n",
    "plt.show()"
   ]
  }
 ],
 "metadata": {
  "kernelspec": {
   "display_name": "Python 3 (ipykernel)",
   "language": "python",
   "name": "python3"
  },
  "language_info": {
   "codemirror_mode": {
    "name": "ipython",
    "version": 3
   },
   "file_extension": ".py",
   "mimetype": "text/x-python",
   "name": "python",
   "nbconvert_exporter": "python",
   "pygments_lexer": "ipython3",
   "version": "3.9.12"
  }
 },
 "nbformat": 4,
 "nbformat_minor": 5
}
