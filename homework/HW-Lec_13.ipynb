{
 "cells": [
  {
   "cell_type": "code",
   "execution_count": 13,
   "id": "59ca5bda",
   "metadata": {},
   "outputs": [
    {
     "name": "stdout",
     "output_type": "stream",
     "text": [
      "[1.73377945 1.46169297]\n"
     ]
    }
   ],
   "source": [
    "#a) Write a program that generates and prints out two random numbers between 1 and 6, to simulate the rolling of two dice.\n",
    "import numpy as np\n",
    "\n",
    "x=np.random.uniform(1,6,2) #random 2 float number between 1 and 6\n",
    "print(x)\n"
   ]
  },
  {
   "cell_type": "code",
   "execution_count": 37,
   "id": "5a3e344b",
   "metadata": {},
   "outputs": [
    {
     "name": "stdout",
     "output_type": "stream",
     "text": [
      "2.791 %\n"
     ]
    }
   ],
   "source": [
    "#b) Modify your program to simulate the rolling of two dice a million times (N0) and count the number of times you get double six (N1). Calculate the probability of finding double six in your simulations (N1/N0)\n",
    "import numpy as np\n",
    "\n",
    "\n",
    "N_o=1000000 #random times \n",
    "N_1=0      #two random number equal and also equal to 6 times\n",
    "\n",
    "#program about equal to 6 time\n",
    "for i in range (N_o):\n",
    "    x=np.random.randint(1,7,2)\n",
    "    if x[0]==6 and x[1]==6:\n",
    "        N_1+=1\n",
    "\n",
    "P=N_1/N_o*100  #prossbilty about dude 6\n",
    "print(P,'%')"
   ]
  },
  {
   "cell_type": "code",
   "execution_count": null,
   "id": "92e35fca",
   "metadata": {},
   "outputs": [],
   "source": [
    "import matplotlib.pyplot as plt\n",
    "\n",
    "N = 100\n",
    "a = 1624\n",
    "c = 1012\n",
    "m = 11 #2**31-1 #4245035300\n",
    "x = 1\n",
    "results = []\n",
    "\n",
    "for i in range(N):      \n",
    "    x = (a*x+c)%m\n",
    "    results.append(x)\n",
    "plt.plot(results,\"o\")\n",
    "plt.show()\n",
    "\n",
    "plt.hist(results)\n",
    "plt.show()"
   ]
  }
 ],
 "metadata": {
  "kernelspec": {
   "display_name": "Python 3 (ipykernel)",
   "language": "python",
   "name": "python3"
  },
  "language_info": {
   "codemirror_mode": {
    "name": "ipython",
    "version": 3
   },
   "file_extension": ".py",
   "mimetype": "text/x-python",
   "name": "python",
   "nbconvert_exporter": "python",
   "pygments_lexer": "ipython3",
   "version": "3.9.12"
  },
  "vp": {
   "vp_config_version": "1.0.0",
   "vp_menu_width": 273,
   "vp_note_display": false,
   "vp_note_width": 0,
   "vp_position": {
    "width": 278
   },
   "vp_section_display": false,
   "vp_signature": "VisualPython"
  }
 },
 "nbformat": 4,
 "nbformat_minor": 5
}
